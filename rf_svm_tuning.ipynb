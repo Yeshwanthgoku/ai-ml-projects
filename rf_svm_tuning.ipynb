{
  "nbformat": 4,
  "nbformat_minor": 0,
  "metadata": {
    "colab": {
      "provenance": []
    },
    "kernelspec": {
      "name": "python3",
      "display_name": "Python 3"
    },
    "language_info": {
      "name": "python"
    }
  },
  "cells": [
    {
      "cell_type": "code",
      "execution_count": 1,
      "metadata": {
        "colab": {
          "base_uri": "https://localhost:8080/"
        },
        "id": "xsmtIQUyRqbF",
        "outputId": "234ca67a-d3f2-4787-9a38-734d7aadc0ca"
      },
      "outputs": [
        {
          "output_type": "stream",
          "name": "stdout",
          "text": [
            "RF report:\n",
            "              precision    recall  f1-score   support\n",
            "\n",
            "           0       1.00      1.00      1.00        12\n",
            "           1       1.00      1.00      1.00        14\n",
            "           2       1.00      1.00      1.00        10\n",
            "\n",
            "    accuracy                           1.00        36\n",
            "   macro avg       1.00      1.00      1.00        36\n",
            "weighted avg       1.00      1.00      1.00        36\n",
            "\n",
            "SVM report:\n",
            "              precision    recall  f1-score   support\n",
            "\n",
            "           0       0.92      0.92      0.92        12\n",
            "           1       0.61      1.00      0.76        14\n",
            "           2       0.00      0.00      0.00        10\n",
            "\n",
            "    accuracy                           0.69        36\n",
            "   macro avg       0.51      0.64      0.56        36\n",
            "weighted avg       0.54      0.69      0.60        36\n",
            "\n",
            "Best RF: {'max_depth': None, 'n_estimators': 50}\n",
            "              precision    recall  f1-score   support\n",
            "\n",
            "           0       1.00      1.00      1.00        12\n",
            "           1       1.00      1.00      1.00        14\n",
            "           2       1.00      1.00      1.00        10\n",
            "\n",
            "    accuracy                           1.00        36\n",
            "   macro avg       1.00      1.00      1.00        36\n",
            "weighted avg       1.00      1.00      1.00        36\n",
            "\n",
            "Best SVM: {'C': 0.1, 'kernel': 'linear'}\n",
            "              precision    recall  f1-score   support\n",
            "\n",
            "           0       1.00      1.00      1.00        12\n",
            "           1       0.93      1.00      0.97        14\n",
            "           2       1.00      0.90      0.95        10\n",
            "\n",
            "    accuracy                           0.97        36\n",
            "   macro avg       0.98      0.97      0.97        36\n",
            "weighted avg       0.97      0.97      0.97        36\n",
            "\n"
          ]
        }
      ],
      "source": [
        "\n",
        "import pandas as pd\n",
        "from sklearn.datasets import load_wine\n",
        "from sklearn.ensemble import RandomForestClassifier\n",
        "from sklearn.svm import SVC\n",
        "from sklearn.model_selection import train_test_split, GridSearchCV\n",
        "from sklearn.metrics import classification_report\n",
        "\n",
        "\n",
        "data = load_wine()\n",
        "X = pd.DataFrame(data.data, columns=data.feature_names)\n",
        "y = data.target\n",
        "\n",
        "X_train, X_test, y_train, y_test = train_test_split(X, y, test_size=0.2, random_state=42, stratify=y)\n",
        "\n",
        "\n",
        "rf = RandomForestClassifier(random_state=42)\n",
        "rf.fit(X_train, y_train)\n",
        "print(\"RF report:\")\n",
        "print(classification_report(y_test, rf.predict(X_test)))\n",
        "\n",
        "svm = SVC(probability=True, random_state=42)\n",
        "svm.fit(X_train, y_train)\n",
        "print(\"SVM report:\")\n",
        "print(classification_report(y_test, svm.predict(X_test)))\n",
        "\n",
        "param_grid_rf = {'n_estimators':[50,100,200], 'max_depth':[None,5,10]}\n",
        "grid_rf = GridSearchCV(RandomForestClassifier(random_state=42), param_grid_rf, cv=4)\n",
        "grid_rf.fit(X_train, y_train)\n",
        "print(\"Best RF:\", grid_rf.best_params_)\n",
        "print(classification_report(y_test, grid_rf.predict(X_test)))\n",
        "\n",
        "param_grid_svm = {'C':[0.1,1,10], 'kernel':['rbf','linear']}\n",
        "grid_svm = GridSearchCV(SVC(random_state=42), param_grid_svm, cv=4)\n",
        "grid_svm.fit(X_train, y_train)\n",
        "print(\"Best SVM:\", grid_svm.best_params_)\n",
        "print(classification_report(y_test, grid_svm.predict(X_test)))\n"
      ]
    }
  ]
}